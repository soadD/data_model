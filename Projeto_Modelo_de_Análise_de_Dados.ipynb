{
  "nbformat": 4,
  "nbformat_minor": 0,
  "metadata": {
    "colab": {
      "provenance": [],
      "authorship_tag": "ABX9TyN7fTMieY78YCWjz4yMtefC",
      "include_colab_link": true
    },
    "kernelspec": {
      "name": "python3",
      "display_name": "Python 3"
    },
    "language_info": {
      "name": "python"
    }
  },
  "cells": [
    {
      "cell_type": "markdown",
      "metadata": {
        "id": "view-in-github",
        "colab_type": "text"
      },
      "source": [
        "<a href=\"https://colab.research.google.com/github/soadD/data_model/blob/main/Projeto_Modelo_de_An%C3%A1lise_de_Dados.ipynb\" target=\"_parent\"><img src=\"https://colab.research.google.com/assets/colab-badge.svg\" alt=\"Open In Colab\"/></a>"
      ]
    },
    {
      "cell_type": "markdown",
      "source": [
        "# Análise de dados utilizando a API nba_api"
      ],
      "metadata": {
        "id": "zA5tog-GQJHt"
      }
    },
    {
      "cell_type": "markdown",
      "source": [
        "Utilizarei este projeto para exercitar meus conhecimentos em Data Analysis e Data scraping e assim fazer um passo a passo com os códigos mais utilizados no processo de extração, análise e carregamento de dados.\n"
      ],
      "metadata": {
        "id": "dl7RJlRyRtxV"
      }
    },
    {
      "cell_type": "markdown",
      "source": [
        "### Extração dos Dados"
      ],
      "metadata": {
        "id": "rVV_fdEZSDOj"
      }
    },
    {
      "cell_type": "code",
      "execution_count": 1,
      "metadata": {
        "colab": {
          "base_uri": "https://localhost:8080/"
        },
        "id": "Wi-Skm-ePHRX",
        "outputId": "62c1fd46-669a-44e7-b452-583fa9da4fb7"
      },
      "outputs": [
        {
          "output_type": "stream",
          "name": "stdout",
          "text": [
            "Requirement already satisfied: nba_api in /usr/local/lib/python3.10/dist-packages (1.4.1)\n",
            "Requirement already satisfied: certifi<2024.0.0,>=2023.7.22 in /usr/local/lib/python3.10/dist-packages (from nba_api) (2023.11.17)\n",
            "Requirement already satisfied: numpy<2.0.0,>=1.22.2 in /usr/local/lib/python3.10/dist-packages (from nba_api) (1.25.2)\n",
            "Requirement already satisfied: requests<3.0,>=2.31 in /usr/local/lib/python3.10/dist-packages (from nba_api) (2.31.0)\n",
            "Requirement already satisfied: charset-normalizer<4,>=2 in /usr/local/lib/python3.10/dist-packages (from requests<3.0,>=2.31->nba_api) (3.3.2)\n",
            "Requirement already satisfied: idna<4,>=2.5 in /usr/local/lib/python3.10/dist-packages (from requests<3.0,>=2.31->nba_api) (3.7)\n",
            "Requirement already satisfied: urllib3<3,>=1.21.1 in /usr/local/lib/python3.10/dist-packages (from requests<3.0,>=2.31->nba_api) (2.0.7)\n"
          ]
        }
      ],
      "source": [
        "!pip install nba_api"
      ]
    },
    {
      "cell_type": "code",
      "source": [
        "from nba_api.stats.static import players\n",
        "import pandas as pd"
      ],
      "metadata": {
        "id": "0LJ81fk2QXBs"
      },
      "execution_count": 2,
      "outputs": []
    },
    {
      "cell_type": "markdown",
      "source": [
        "### Verificando se a importação foi bem sucedida"
      ],
      "metadata": {
        "id": "vZkJlBJOQtvv"
      }
    },
    {
      "cell_type": "code",
      "source": [
        "jog_nba = players.get_players()\n",
        "print('Conferindo o número total de jogadores:{}'.format(len(jog_nba)))"
      ],
      "metadata": {
        "colab": {
          "base_uri": "https://localhost:8080/"
        },
        "id": "B4DwVZz-QqJ2",
        "outputId": "ea1f3c44-30e1-4439-b50c-a6d6217c3baf"
      },
      "execution_count": 3,
      "outputs": [
        {
          "output_type": "stream",
          "name": "stdout",
          "text": [
            "Conferindo o número total de jogadores:4900\n"
          ]
        }
      ]
    },
    {
      "cell_type": "markdown",
      "source": [
        "### Procurando por um jogador específico na API - Donovan Mitchell"
      ],
      "metadata": {
        "id": "G0xlwO2TRnxl"
      }
    },
    {
      "cell_type": "code",
      "source": [
        "# O objeto players foi importado pela API da nba e também o método get_players, que traz um dicionário com as informações básicas dos jogadores\n",
        "jog_nba = players.get_players()\n",
        "'''def get_players():\n",
        "    players_list = []\n",
        "    for player in players:\n",
        "        players_list.append(_get_player_dict(player))\n",
        "    return players_list\n",
        "    '''\n",
        "#Trouxe todos os meus jogadores da lista players para a minha lista jog_nba\n",
        "\n",
        "spida = []\n",
        "#Rodando um for procurando pelo jogador específico\n",
        "for player in jog_nba:\n",
        "    if player[\"full_name\"] == 'Donovan Mitchell':\n",
        "        spida = player\n",
        "        break"
      ],
      "metadata": {
        "id": "ihtZWJmZRi6a"
      },
      "execution_count": 4,
      "outputs": []
    },
    {
      "cell_type": "code",
      "source": [
        "spida\n",
        "spida_id = spida['id']\n"
      ],
      "metadata": {
        "id": "fvYJfER1TXuy"
      },
      "execution_count": 7,
      "outputs": []
    },
    {
      "cell_type": "code",
      "source": [],
      "metadata": {
        "id": "g-AeELDkTYJb"
      },
      "execution_count": null,
      "outputs": []
    }
  ]
}